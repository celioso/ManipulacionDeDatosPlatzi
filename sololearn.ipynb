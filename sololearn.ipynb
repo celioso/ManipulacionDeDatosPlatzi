{
 "cells": [
  {
   "cell_type": "markdown",
   "metadata": {},
   "source": [
    "¡Estás haciendo un juego! El jugador intenta disparar a un objeto y puede hacer hit o miss.\n",
    "El jugador comienza con 100 puntos, un acierto añade 10 puntos a la puntuación del jugador, y un fallo le resta 20 puntos.\n",
    "Tu programa necesita tomar 4 resultados de acción como entrada (\"hit\" or \"miss\"), calcular y genera a los puntos restantes del jugador.\n",
    "Ejemplo de entrada\n",
    "hit\n",
    "hit\n",
    "miss\n",
    "hit\n",
    "Ejemplo de salida\n",
    "110\n",
    "Explicación: 3 hits(hit) añaden 30 puntos, un miss(miss) descuenta 20, lo que hace que el total de puntos sea igual a 110."
   ]
  },
  {
   "cell_type": "code",
   "execution_count": 1,
   "metadata": {},
   "outputs": [
    {
     "name": "stdout",
     "output_type": "stream",
     "text": [
      "140\n"
     ]
    }
   ],
   "source": [
    "i = 0\n",
    "x = 100 \n",
    "while i < 4:\n",
    "    text = input()\n",
    "    if text == 'hit' or 'Hit':\n",
    "        x = x +10\n",
    "        i=i+1\n",
    "    elif text == 'miss' or 'Miss':\n",
    "        x=x +20\n",
    "        i=i+1\n",
    "print(x)\n",
    " "
   ]
  },
  {
   "cell_type": "code",
   "execution_count": 3,
   "metadata": {},
   "outputs": [
    {
     "name": "stdout",
     "output_type": "stream",
     "text": [
      "0\n",
      "1\n",
      "3\n",
      "6\n",
      "6\n"
     ]
    }
   ],
   "source": [
    "i = 0\n",
    "x = 0\n",
    "while i < 4:\n",
    "    x +=i\n",
    "    i+=1\n",
    "    print(x)\n",
    "print(x)    \n",
    "\n"
   ]
  },
  {
   "cell_type": "code",
   "execution_count": 5,
   "metadata": {},
   "outputs": [
    {
     "name": "stdout",
     "output_type": "stream",
     "text": [
      "8\n"
     ]
    }
   ],
   "source": [
    "x = int(input())\n",
    "if x > 5:\n",
    "    if x < 8:\n",
    "        print(x+1)\n",
    "    else:\n",
    "        print(x-1)\n",
    "else:\n",
    "    print(x)            "
   ]
  },
  {
   "cell_type": "code",
   "execution_count": 7,
   "metadata": {},
   "outputs": [
    {
     "name": "stdout",
     "output_type": "stream",
     "text": [
      "Underweight\n"
     ]
    }
   ],
   "source": [
    "peso=float(input(\"ponga el peso: \"))\n",
    "altura=float(input(\"ponga la altura: \"))\n",
    "imc = peso / (altura**2)\n",
    "if imc < 18.5:\n",
    "    print(\"Underweight\")\n",
    "elif imc <=18.5 and imc < 24.9:\n",
    "    print (\"Normal\")\n",
    "elif imc <=25 and imc < 29.9:\n",
    "    print(\"overweight\")\n",
    "elif imc <=25 and imc <30:\n",
    "    print(\"Obesity\")"
   ]
  },
  {
   "cell_type": "code",
   "execution_count": 1,
   "metadata": {},
   "outputs": [
    {
     "name": "stdout",
     "output_type": "stream",
     "text": [
      "8\n"
     ]
    }
   ],
   "source": [
    "list =[1, 1, 2, 3, 5, 8, 13]\n",
    "print(list[list[4]])"
   ]
  },
  {
   "cell_type": "code",
   "execution_count": 2,
   "metadata": {},
   "outputs": [
    {
     "name": "stdout",
     "output_type": "stream",
     "text": [
      "2\n",
      "4\n",
      "6\n",
      "8\n",
      "10\n"
     ]
    }
   ],
   "source": [
    "for i in range(10):\n",
    "    if not i%2 ==0:\n",
    "        print(i+1)"
   ]
  },
  {
   "cell_type": "code",
   "execution_count": 3,
   "metadata": {},
   "outputs": [
    {
     "name": "stdout",
     "output_type": "stream",
     "text": [
      "13\n"
     ]
    }
   ],
   "source": [
    "x= [6, 4, 2, 9]\n",
    "x= x[::-1]\n",
    "print(x[0]+x[2])"
   ]
  }
 ],
 "metadata": {
  "kernelspec": {
   "display_name": "Python 3.11.0 64-bit",
   "language": "python",
   "name": "python3"
  },
  "language_info": {
   "codemirror_mode": {
    "name": "ipython",
    "version": 3
   },
   "file_extension": ".py",
   "mimetype": "text/x-python",
   "name": "python",
   "nbconvert_exporter": "python",
   "pygments_lexer": "ipython3",
   "version": "3.11.0"
  },
  "orig_nbformat": 4,
  "vscode": {
   "interpreter": {
    "hash": "5a9f38817c8ceb891a0ba0bc99fbd8fe203dc93590b0deea4ef2b0373c67f9c0"
   }
  }
 },
 "nbformat": 4,
 "nbformat_minor": 2
}
